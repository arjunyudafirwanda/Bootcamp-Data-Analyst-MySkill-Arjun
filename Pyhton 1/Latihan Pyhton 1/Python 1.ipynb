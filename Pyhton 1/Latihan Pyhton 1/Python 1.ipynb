{
 "cells": [
  {
   "cell_type": "markdown",
   "id": "f302bdd8",
   "metadata": {},
   "source": [
    "# 1. Version and Syntax Print\n",
    "Version menggunakan library import sys version untuk mengetahui version python yang sedang berjalan.\n",
    "Syntax print yang digunakan untuk memunculkan output yang ingin kita print pada console"
   ]
  },
  {
   "cell_type": "code",
   "execution_count": 1,
   "id": "6ae476c5",
   "metadata": {},
   "outputs": [
    {
     "name": "stdout",
     "output_type": "stream",
     "text": [
      "3.10.9 | packaged by Anaconda, Inc. | (main, Mar  1 2023, 18:18:15) [MSC v.1916 64 bit (AMD64)]\n"
     ]
    }
   ],
   "source": [
    "# Python Version\n",
    "import sys\n",
    "print(sys.version)"
   ]
  },
  {
   "cell_type": "code",
   "execution_count": 2,
   "id": "e45f5d30",
   "metadata": {},
   "outputs": [
    {
     "name": "stdout",
     "output_type": "stream",
     "text": [
      "Hello, world!\n"
     ]
    }
   ],
   "source": [
    "# Syntax Print\n",
    "print(\"Hello, world!\")"
   ]
  },
  {
   "cell_type": "markdown",
   "id": "5d32e4cb",
   "metadata": {},
   "source": [
    "# 2. Variabel\n",
    "Variabel dalam pemrograman digunakan untuk menyimpan data/ informasi/ nilai. Di python, variabel ditetapkan dengan menggunakan =. Pada contoh di samping, angka 2 ditetapkan pada variabel nilai, dan tulisan “Imam” ditetapkan pada variabel nama."
   ]
  },
  {
   "cell_type": "code",
   "execution_count": 3,
   "id": "5a019bac",
   "metadata": {},
   "outputs": [
    {
     "name": "stdout",
     "output_type": "stream",
     "text": [
      "Arjun 2\n"
     ]
    }
   ],
   "source": [
    "# Operator Eksponen\n",
    "nilai = 2\n",
    "nama = \"Arjun\"\n",
    "\n",
    "print(nama, nilai)"
   ]
  },
  {
   "cell_type": "markdown",
   "id": "68d42486",
   "metadata": {},
   "source": [
    "# 3. Tipe Data"
   ]
  },
  {
   "cell_type": "markdown",
   "id": "d5b53e68",
   "metadata": {},
   "source": [
    "## Integer\n",
    "Tipe data integer berisi angka yang tidak memiliki koma (,) alias bilangan bulat. Penulisan syntax menggunakan fungsi type().\n",
    "\n",
    "Berikut adalah beberapa contoh bilangan bulat. Bilangan bulat dapat berupa bilangan negatif atau positif:\n",
    "<a align=\"center\">\n",
    "    <img src=\"https://cf-courses-data.s3.us.cloud-object-storage.appdomain.cloud/IBMDeveloperSkillsNetwork-PY0101EN-SkillsNetwork/labs/Module%201/images/TypesInt.png\" width=\"600\">\n",
    "</a>\n"
   ]
  },
  {
   "cell_type": "code",
   "execution_count": 4,
   "id": "fbe4a07c",
   "metadata": {},
   "outputs": [
    {
     "data": {
      "text/plain": [
       "int"
      ]
     },
     "execution_count": 4,
     "metadata": {},
     "output_type": "execute_result"
    }
   ],
   "source": [
    "type(-1)"
   ]
  },
  {
   "cell_type": "code",
   "execution_count": 5,
   "id": "b729bc17",
   "metadata": {},
   "outputs": [
    {
     "data": {
      "text/plain": [
       "int"
      ]
     },
     "execution_count": 5,
     "metadata": {},
     "output_type": "execute_result"
    }
   ],
   "source": [
    "type(4)"
   ]
  },
  {
   "cell_type": "code",
   "execution_count": 6,
   "id": "7e75e39f",
   "metadata": {},
   "outputs": [
    {
     "data": {
      "text/plain": [
       "int"
      ]
     },
     "execution_count": 6,
     "metadata": {},
     "output_type": "execute_result"
    }
   ],
   "source": [
    "type(0)"
   ]
  },
  {
   "cell_type": "markdown",
   "id": "9eefeac1",
   "metadata": {},
   "source": [
    "## Float\n",
    "Float mewakili bilangan real; mereka adalah superset dari bilangan bulat tetapi juga termasuk \"angka dengan desimal\". Ada beberapa batasan dalam hal mesin yang merepresentasikan bilangan real, tetapi bilangan floating point adalah representasi yang baik dalam banyak kasus. Anda dapat mempelajari lebih lanjut tentang spesifikasi float untuk lingkungan runtime Anda, dengan memeriksa nilai sys.float_info. Ini juga akan memberi tahu Anda berapa angka terbesar dan terkecil yang dapat direpresentasikan dengannya."
   ]
  },
  {
   "cell_type": "code",
   "execution_count": 7,
   "id": "665c2198",
   "metadata": {},
   "outputs": [
    {
     "data": {
      "text/plain": [
       "float"
      ]
     },
     "execution_count": 7,
     "metadata": {},
     "output_type": "execute_result"
    }
   ],
   "source": [
    "type(12.6)"
   ]
  },
  {
   "cell_type": "code",
   "execution_count": 8,
   "id": "539ebd46",
   "metadata": {},
   "outputs": [
    {
     "data": {
      "text/plain": [
       "float"
      ]
     },
     "execution_count": 8,
     "metadata": {},
     "output_type": "execute_result"
    }
   ],
   "source": [
    "type(0.56)"
   ]
  },
  {
   "cell_type": "code",
   "execution_count": 9,
   "id": "37f7bb10",
   "metadata": {},
   "outputs": [
    {
     "data": {
      "text/plain": [
       "float"
      ]
     },
     "execution_count": 9,
     "metadata": {},
     "output_type": "execute_result"
    }
   ],
   "source": [
    "type(-5.7)"
   ]
  },
  {
   "cell_type": "markdown",
   "id": "72e8ec10",
   "metadata": {},
   "source": [
    "## String\n",
    "String adalah tipe data Python untuk menampung nilai teks, seperti huruf, tanda baca, dan karakter spesial lainnya. Ciri-ciri tipe data string adalah diapit tanda petik, baik itu petik satu ('') atau petik dua (“”)."
   ]
  },
  {
   "cell_type": "code",
   "execution_count": 10,
   "id": "ed27c03b",
   "metadata": {},
   "outputs": [
    {
     "data": {
      "text/plain": [
       "str"
      ]
     },
     "execution_count": 10,
     "metadata": {},
     "output_type": "execute_result"
    }
   ],
   "source": [
    "type(\"Hello, Python 3!\")"
   ]
  },
  {
   "cell_type": "code",
   "execution_count": 11,
   "id": "52ac9686",
   "metadata": {},
   "outputs": [
    {
     "data": {
      "text/plain": [
       "str"
      ]
     },
     "execution_count": 11,
     "metadata": {},
     "output_type": "execute_result"
    }
   ],
   "source": [
    "type('Hello Jupyter Notebook')"
   ]
  },
  {
   "cell_type": "code",
   "execution_count": 12,
   "id": "3e61fadb",
   "metadata": {},
   "outputs": [
    {
     "data": {
      "text/plain": [
       "str"
      ]
     },
     "execution_count": 12,
     "metadata": {},
     "output_type": "execute_result"
    }
   ],
   "source": [
    "type(\"Hello Google Colab\")"
   ]
  },
  {
   "cell_type": "markdown",
   "id": "6b6cd60d",
   "metadata": {},
   "source": [
    "## Boolean\n",
    "Boolean adalah tipe penting lainnya di Python. Objek bertipe Boolean dapat mengambil salah satu dari dua nilai: True atau False:"
   ]
  },
  {
   "cell_type": "code",
   "execution_count": 13,
   "id": "ac000aef",
   "metadata": {},
   "outputs": [
    {
     "data": {
      "text/plain": [
       "bool"
      ]
     },
     "execution_count": 13,
     "metadata": {},
     "output_type": "execute_result"
    }
   ],
   "source": [
    "type(True)"
   ]
  },
  {
   "cell_type": "code",
   "execution_count": 14,
   "id": "0134f17d",
   "metadata": {},
   "outputs": [
    {
     "data": {
      "text/plain": [
       "bool"
      ]
     },
     "execution_count": 14,
     "metadata": {},
     "output_type": "execute_result"
    }
   ],
   "source": [
    "type(False)"
   ]
  },
  {
   "cell_type": "markdown",
   "id": "3d8e9a9b",
   "metadata": {},
   "source": [
    "# 4. Expression\n",
    "Ekspresi dalam Python dapat menyertakan operasi di antara tipe yang kompatibel (mis., bilangan bulat dan float). Misalnya, operasi aritmatika dasar seperti menambahkan beberapa angka:"
   ]
  },
  {
   "cell_type": "markdown",
   "id": "ec308b77",
   "metadata": {},
   "source": [
    "## Expression Operator Eksponen"
   ]
  },
  {
   "cell_type": "code",
   "execution_count": 15,
   "id": "7e2dfb51",
   "metadata": {},
   "outputs": [
    {
     "data": {
      "text/plain": [
       "8"
      ]
     },
     "execution_count": 15,
     "metadata": {},
     "output_type": "execute_result"
    }
   ],
   "source": [
    "x = 2 ** 3\n",
    "x"
   ]
  },
  {
   "cell_type": "markdown",
   "id": "e967e1ce",
   "metadata": {},
   "source": [
    "## Expression Operator Modulus/Sisa"
   ]
  },
  {
   "cell_type": "code",
   "execution_count": 16,
   "id": "4cf6346d",
   "metadata": {},
   "outputs": [
    {
     "data": {
      "text/plain": [
       "6"
      ]
     },
     "execution_count": 16,
     "metadata": {},
     "output_type": "execute_result"
    }
   ],
   "source": [
    "x = 22 % 8\n",
    "x"
   ]
  },
  {
   "cell_type": "markdown",
   "id": "18042b19",
   "metadata": {},
   "source": [
    "## Expression Operator Pembagian Bilangan Bulat"
   ]
  },
  {
   "cell_type": "code",
   "execution_count": 17,
   "id": "29f34edf",
   "metadata": {},
   "outputs": [
    {
     "data": {
      "text/plain": [
       "2"
      ]
     },
     "execution_count": 17,
     "metadata": {},
     "output_type": "execute_result"
    }
   ],
   "source": [
    "x = 22 // 8\n",
    "x"
   ]
  },
  {
   "cell_type": "markdown",
   "id": "5254e4c5",
   "metadata": {},
   "source": [
    "## Expression Operator Pembagian"
   ]
  },
  {
   "cell_type": "code",
   "execution_count": 18,
   "id": "cc09b283",
   "metadata": {},
   "outputs": [
    {
     "data": {
      "text/plain": [
       "2.75"
      ]
     },
     "execution_count": 18,
     "metadata": {},
     "output_type": "execute_result"
    }
   ],
   "source": [
    "x = 22 / 8\n",
    "x"
   ]
  },
  {
   "cell_type": "markdown",
   "id": "8b74f3aa",
   "metadata": {},
   "source": [
    "## Expression Operator Perkalian"
   ]
  },
  {
   "cell_type": "code",
   "execution_count": 19,
   "id": "6a0149f5",
   "metadata": {},
   "outputs": [
    {
     "data": {
      "text/plain": [
       "9"
      ]
     },
     "execution_count": 19,
     "metadata": {},
     "output_type": "execute_result"
    }
   ],
   "source": [
    "x = 3 * 3\n",
    "x"
   ]
  },
  {
   "cell_type": "markdown",
   "id": "56b0d09c",
   "metadata": {},
   "source": [
    "## Expression Operator Pengurangan"
   ]
  },
  {
   "cell_type": "code",
   "execution_count": 20,
   "id": "baad15c7",
   "metadata": {},
   "outputs": [
    {
     "data": {
      "text/plain": [
       "3"
      ]
     },
     "execution_count": 20,
     "metadata": {},
     "output_type": "execute_result"
    }
   ],
   "source": [
    "x = 5 - 2\n",
    "x"
   ]
  },
  {
   "cell_type": "markdown",
   "id": "d76652d4",
   "metadata": {},
   "source": [
    "## Expression Operator Tambahan"
   ]
  },
  {
   "cell_type": "code",
   "execution_count": 21,
   "id": "b007afc3",
   "metadata": {},
   "outputs": [
    {
     "data": {
      "text/plain": [
       "4"
      ]
     },
     "execution_count": 21,
     "metadata": {},
     "output_type": "execute_result"
    }
   ],
   "source": [
    "x = 2 + 2\n",
    "x"
   ]
  },
  {
   "cell_type": "markdown",
   "id": "810407f3",
   "metadata": {},
   "source": [
    "# 5. Data Collection\n",
    "Collection = single \"variable\" used to store multiple values\n",
    "\n",
    "|Collection Type                       |Description     |Duplicate |\n",
    "|:------------------------------|:---------|:-----------|\n",
    "List = [ ] | berurut & dapat diubah| OK\n",
    "Set = { } | tidak berurut & tidak dapat diubah, namun Add/Remove OK | NO\n",
    "Tuple = ( ) | berurut & tidak dapat diubah. Lebih Cepat | OK\n",
    "Dictionary = {} | tidak berurut & dapat diubah (indexing) | NO"
   ]
  },
  {
   "cell_type": "markdown",
   "id": "4c8d123f",
   "metadata": {},
   "source": [
    "## a. Collection Type List = []\n",
    "List adalah kumpulan objek yang diurutkan dan dapat diubah."
   ]
  },
  {
   "cell_type": "code",
   "execution_count": 22,
   "id": "ab20529d",
   "metadata": {},
   "outputs": [
    {
     "name": "stdout",
     "output_type": "stream",
     "text": [
      "[1, 2, 3, 4, 3, 2, 1]\n",
      "['1', '2', 1, 2]\n",
      "[]\n"
     ]
    }
   ],
   "source": [
    "# Umumnya, gunakan tanda kurung biasa () untuk membuat list\n",
    "list1 = [1, 2, 3, 4, 3, 2, 1]\n",
    "list2 = list( (\"1\", \"2\", 1, 2) )\n",
    "list3 = [] # creates an empty list\n",
    "\n",
    "print(list1)\n",
    "print(list2)\n",
    "print(list3)"
   ]
  },
  {
   "cell_type": "markdown",
   "id": "ce2fe1a0",
   "metadata": {},
   "source": [
    "## Objek atau elemen dalam list dapat dipanggil dengan menggunakan index.\n",
    "Perhatikan bahwa **indeks Python dimulai dari 0**.\\\n",
    "**Elemen terakhir dapat diindeks sebagai -1**.\\\n",
    "<img src=\"https://www.aipython.in/wp-content/uploads/2020/02/Index_in_python-list.png\" width=\"660\" />"
   ]
  },
  {
   "cell_type": "code",
   "execution_count": 23,
   "id": "aa8e3cd6",
   "metadata": {},
   "outputs": [
    {
     "name": "stdout",
     "output_type": "stream",
     "text": [
      "2\n",
      "[1, 1, 2, 2, 3, 3, 4]\n"
     ]
    }
   ],
   "source": [
    "print(list1[5])\n",
    "print(sorted(list1))"
   ]
  },
  {
   "cell_type": "markdown",
   "id": "510671c0",
   "metadata": {},
   "source": [
    "## List bisa berubah, artinya kita bisa memodifikasi elemen di dalamnya.\n",
    "Kita dapat melakukan deklarasi langsung ke elemen yang diindeks, atau kita dapat meletakkan beberapa metode di sana."
   ]
  },
  {
   "cell_type": "code",
   "execution_count": 24,
   "id": "7dcd8328",
   "metadata": {},
   "outputs": [
    {
     "name": "stdout",
     "output_type": "stream",
     "text": [
      "[3, 2, 3]\n"
     ]
    }
   ],
   "source": [
    "A = [1, 2, 3]\n",
    "A[0] = 3\n",
    "print(A)"
   ]
  },
  {
   "cell_type": "markdown",
   "id": "748e4165",
   "metadata": {},
   "source": [
    "## b. Collection Type Set = {}\n",
    "Set adalah kumpulan objek yang unordered dan unik."
   ]
  },
  {
   "cell_type": "code",
   "execution_count": 25,
   "id": "71b508cb",
   "metadata": {},
   "outputs": [
    {
     "name": "stdout",
     "output_type": "stream",
     "text": [
      "{1, 2, 4, 'three'}\n",
      "{'1', 1, 2}\n",
      "{}\n"
     ]
    }
   ],
   "source": [
    "set1 = {\"three\", 1, 4, 2}\n",
    "a = (1, \"1\", 1, 2)\n",
    "set2 = set((1, \"1\", 1, 2))\n",
    "set3 = {} # creates an empty set\n",
    "\n",
    "print(set1)\n",
    "print(set2)\n",
    "print(set3)"
   ]
  },
  {
   "cell_type": "markdown",
   "id": "a3537b8c",
   "metadata": {},
   "source": [
    "## Set bisa berubah: elemen di dalam set dapat dimodifikasi.\n",
    "\n",
    "Metode umum adalah .add(), .discard(), dan .clear()."
   ]
  },
  {
   "cell_type": "code",
   "execution_count": 26,
   "id": "c65847b9",
   "metadata": {},
   "outputs": [
    {
     "name": "stdout",
     "output_type": "stream",
     "text": [
      "{False, 3, 'ten', 5}\n",
      "{False, 3, 5, 9, 'ten'}\n",
      "{False, 3, 5, 9, 'ten'}\n",
      "{False, 3, 5, 9, 'ab', 'ten'}\n",
      "{False, 3, 5, 9, 'ab'}\n",
      "{False, 3, 5, 9, 'ab'}\n",
      "set()\n"
     ]
    }
   ],
   "source": [
    "set4 = {3, 5, \"ten\", False}\n",
    "print(set4)\n",
    "\n",
    "set4.add(9)\n",
    "print(set4)\n",
    "\n",
    "set4.add(3)\n",
    "print(set4)\n",
    "\n",
    "set4.add(\"ab\")\n",
    "print(set4)\n",
    "\n",
    "set4.discard(\"ten\")\n",
    "print(set4)\n",
    "\n",
    "set4.discard(\"huh?\")\n",
    "print(set4)\n",
    "\n",
    "set4.clear()\n",
    "print(set4)"
   ]
  },
  {
   "cell_type": "markdown",
   "id": "b433dc87",
   "metadata": {},
   "source": [
    "## c. Collection Type Tuple = ()\n",
    "Tuple adalah kumpulan objek yang dipesan dan tidak dapat diubah.\n",
    "Ada berbagai cara untuk membuat tuple.\n",
    "\n",
    "<img src=\"https://cf-courses-data.s3.us.cloud-object-storage.appdomain.cloud/IBMDeveloperSkillsNetwork-PY0101EN-SkillsNetwork/labs/Module%202/images/TuplesIndex.gif\" width=\"750\" align=\"center\">"
   ]
  },
  {
   "cell_type": "code",
   "execution_count": 27,
   "id": "43ffcb3a",
   "metadata": {},
   "outputs": [
    {
     "name": "stdout",
     "output_type": "stream",
     "text": [
      "(1, 2, 'three', 4)\n",
      "(1, True, 1, 'false')\n",
      "()\n"
     ]
    }
   ],
   "source": [
    "# Umumnya, gunakan tanda kurung biasa () untuk membuat tuple\n",
    "tuple1 = (1, 2, \"three\", 4)\n",
    "tuple2 = tuple((1, True, 1, \"false\"))\n",
    "tuple3 = () # creates an empty tuple\n",
    "\n",
    "print(tuple1)\n",
    "print(tuple2)\n",
    "print(tuple3)"
   ]
  },
  {
   "cell_type": "markdown",
   "id": "ef6defe0",
   "metadata": {},
   "source": [
    "## Tuple tidak dapat diubah. Setelah tuple dibuat, kita tidak dapat memodifikasinya."
   ]
  },
  {
   "cell_type": "code",
   "execution_count": 28,
   "id": "ddbead7e",
   "metadata": {},
   "outputs": [
    {
     "name": "stdout",
     "output_type": "stream",
     "text": [
      "('a', 'b', 'c')\n"
     ]
    }
   ],
   "source": [
    "tuple4 = ('a', 'b', 'c')\n",
    "print(tuple4)"
   ]
  },
  {
   "cell_type": "code",
   "execution_count": 29,
   "id": "0240fdcd",
   "metadata": {},
   "outputs": [
    {
     "data": {
      "text/plain": [
       "'a'"
      ]
     },
     "execution_count": 29,
     "metadata": {},
     "output_type": "execute_result"
    }
   ],
   "source": [
    "tuple4 = ('a', 'b', 'c')\n",
    "tuple4[0]"
   ]
  },
  {
   "cell_type": "markdown",
   "id": "e08b4b1c",
   "metadata": {},
   "source": [
    "## d. Collection Type Dictionary = {}\n",
    "Dictionary adalah pasangan key value dari objek.\n",
    "<img src=\"https://cf-courses-data.s3.us.cloud-object-storage.appdomain.cloud/IBMDeveloperSkillsNetwork-PY0101EN-SkillsNetwork/labs/Module%202/images/DictsList.png\" width=\"650\" />"
   ]
  },
  {
   "cell_type": "code",
   "execution_count": 30,
   "id": "8ea8ccfe",
   "metadata": {},
   "outputs": [
    {
     "name": "stdout",
     "output_type": "stream",
     "text": [
      "Monkey D. Luffy\n",
      "19\n"
     ]
    }
   ],
   "source": [
    "# Dictionary juga menggunakan kurung kurawal {} untuk dibuat\n",
    "luffy = {\n",
    "    \"Full Name\": \"Monkey D. Luffy\",\n",
    "    \"Occupation\": \"Pirate\",\n",
    "    \"Age\": 19,\n",
    "    \"Origin\": \"East Blue\"\n",
    "}\n",
    "\n",
    "print(luffy[\"Full Name\"])\n",
    "print(luffy[\"Age\"])"
   ]
  },
  {
   "cell_type": "code",
   "execution_count": null,
   "id": "4c140c76",
   "metadata": {},
   "outputs": [],
   "source": []
  }
 ],
 "metadata": {
  "kernelspec": {
   "display_name": "Python 3 (ipykernel)",
   "language": "python",
   "name": "python3"
  },
  "language_info": {
   "codemirror_mode": {
    "name": "ipython",
    "version": 3
   },
   "file_extension": ".py",
   "mimetype": "text/x-python",
   "name": "python",
   "nbconvert_exporter": "python",
   "pygments_lexer": "ipython3",
   "version": "3.10.9"
  }
 },
 "nbformat": 4,
 "nbformat_minor": 5
}
