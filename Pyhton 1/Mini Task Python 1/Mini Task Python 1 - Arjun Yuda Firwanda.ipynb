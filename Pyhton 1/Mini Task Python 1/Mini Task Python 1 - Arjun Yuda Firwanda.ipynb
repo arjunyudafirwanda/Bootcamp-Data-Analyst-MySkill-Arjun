{
 "cells": [
  {
   "cell_type": "markdown",
   "id": "0a789bdb",
   "metadata": {},
   "source": [
    "# Mini TASK\n",
    "Buatlah Biodata diri selengkap mungkin dengan menggunakan Dictionary. Kemudian coba dengan menggunakan key, tampilkan nama panggilan Anda!"
   ]
  },
  {
   "cell_type": "code",
   "execution_count": 1,
   "id": "76ec5b3a",
   "metadata": {},
   "outputs": [
    {
     "name": "stdout",
     "output_type": "stream",
     "text": [
      "Arjun Yuda Firwanda\n",
      "Arjun\n",
      "A84\n",
      "Indonesia\n",
      "Laki-laki\n",
      "B\n",
      "Kibang, 6 Agustus 1998\n",
      "Metro Kibang Lampung Timur\n",
      "Berawal Dari Kecil Akan Datangnya Besar\n",
      "Belajar Python 1\n",
      "https://github.com/arjunyudafirwanda\n"
     ]
    }
   ],
   "source": [
    "perkenalan = {\n",
    "    \"Full Name\": \"Arjun Yuda Firwanda\",\n",
    "    \"Nama Panggilan\": \"Arjun\",\n",
    "    \"Nomor Absen\": \"A84\",\n",
    "    \"Kewarganegaraan\": \"Indonesia\",\n",
    "    \"Jenis Kelamin\": \"Laki-laki\",\n",
    "    \"Golongan Darah\": \"B\",\n",
    "    \"Tempat, Tanggal Lahir\": \"Kibang, 6 Agustus 1998\",\n",
    "    \"Alamat\": \"Metro Kibang Lampung Timur\",\n",
    "    \"My Quote\": \"Berawal Dari Kecil Akan Datangnya Besar\",\n",
    "    \"Materi\": \"Belajar Python 1\",\n",
    "    \"My Github\": \"https://github.com/arjunyudafirwanda\"\n",
    "}\n",
    "\n",
    "print(perkenalan[\"Full Name\"])\n",
    "print(perkenalan[\"Nama Panggilan\"])\n",
    "print(perkenalan[\"Nomor Absen\"])\n",
    "print(perkenalan[\"Kewarganegaraan\"])\n",
    "print(perkenalan[\"Jenis Kelamin\"])\n",
    "print(perkenalan[\"Golongan Darah\"])\n",
    "print(perkenalan[\"Tempat, Tanggal Lahir\"])\n",
    "print(perkenalan[\"Alamat\"])\n",
    "print(perkenalan[\"My Quote\"])\n",
    "print(perkenalan[\"Materi\"])\n",
    "print(perkenalan[\"My Github\"])"
   ]
  },
  {
   "cell_type": "code",
   "execution_count": null,
   "id": "c30b09a6",
   "metadata": {},
   "outputs": [],
   "source": []
  }
 ],
 "metadata": {
  "kernelspec": {
   "display_name": "Python 3 (ipykernel)",
   "language": "python",
   "name": "python3"
  },
  "language_info": {
   "codemirror_mode": {
    "name": "ipython",
    "version": 3
   },
   "file_extension": ".py",
   "mimetype": "text/x-python",
   "name": "python",
   "nbconvert_exporter": "python",
   "pygments_lexer": "ipython3",
   "version": "3.10.9"
  }
 },
 "nbformat": 4,
 "nbformat_minor": 5
}
